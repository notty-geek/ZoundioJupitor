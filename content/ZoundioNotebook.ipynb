{
 "metadata": {
  "kernelspec": {
   "name": "SQL",
   "display_name": "SQL",
   "language": "sql"
  },
  "language_info": {
   "name": "sql",
   "version": ""
  }
 },
 "nbformat_minor": 2,
 "nbformat": 4,
 "cells": [
  {
   "cell_type": "markdown",
   "source": [
    "Query To Fetch UserName from Transaction Ids"
   ],
   "metadata": {
    "azdata_cell_guid": "24a23acf-a7a8-4810-9f04-105459d0819a"
   },
   "attachments": {}
  },
  {
   "cell_type": "code",
   "source": [
    "SELECT USERNAME\n",
    "FROM PUBLIC.ZOUNDIO_USER_USER\n",
    "WHERE ID IN\n",
    "\t\t(SELECT USER_ID\n",
    "\t\t\tFROM PUBLIC.ZOUNDIO_USER_USERINAPPPURCHASE\n",
    "\t\t\tWHERE TRANSACTION_ID = '');"
   ],
   "metadata": {
    "azdata_cell_guid": "27f57cec-aad4-4a91-9b4b-28a9fbe32f1c",
    "tags": []
   },
   "outputs": [
    {
     "output_type": "display_data",
     "data": {
      "text/html": "(2 row(s) affected)"
     },
     "metadata": {}
    },
    {
     "output_type": "display_data",
     "data": {
      "text/html": "Total execution time: 00:00:00.254"
     },
     "metadata": {}
    },
    {
     "output_type": "execute_result",
     "metadata": {},
     "execution_count": 13,
     "data": {
      "application/vnd.dataresource+json": {
       "schema": {
        "fields": [
         {
          "name": "username"
         }
        ]
       },
       "data": [
        {
         "0": "jqpUVDPCMHUzTdfp3rNcpvouOnt1"
        },
        {
         "0": "Android_2fad8db9811a7a2b:Android"
        }
       ]
      },
      "text/html": [
       "<table>",
       "<tr><th>username</th></tr>",
       "<tr><td>jqpUVDPCMHUzTdfp3rNcpvouOnt1</td></tr>",
       "<tr><td>Android_2fad8db9811a7a2b:Android</td></tr>",
       "</table>"
      ]
     }
    }
   ],
   "execution_count": 13
  },
  {
   "cell_type": "markdown",
   "source": [
    ""
   ],
   "metadata": {
    "azdata_cell_guid": "853e6e9e-e13d-4dd6-8263-7df95a441c1f"
   }
  }
 ]
}